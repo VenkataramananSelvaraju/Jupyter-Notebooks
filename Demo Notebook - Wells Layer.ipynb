{
 "cells": [
  {
   "cell_type": "markdown",
   "metadata": {},
   "source": [
    "# Wells Layer\n",
    "\n",
    "This notebook demonstrates on how jupyter notebook is used to perform custom analysis interactively on the wells, seismic 2d and seismic 3d layer and also the reports available hosted on Geo Server."
   ]
  },
  {
   "cell_type": "code",
   "execution_count": 2,
   "metadata": {},
   "outputs": [
    {
     "data": {
      "application/vnd.jupyter.widget-view+json": {
       "model_id": "d9bc7642dd0549eab0449af278a1e3a7",
       "version_major": 2,
       "version_minor": 0
      },
      "text/plain": [
       "Map(basemap={'url': 'https://{s}.tile.openstreetmap.org/{z}/{x}/{y}.png', 'max_zoom': 19, 'attribution': 'Map …"
      ]
     },
     "metadata": {},
     "output_type": "display_data"
    }
   ],
   "source": [
    "import warnings\n",
    "warnings.filterwarnings(\"ignore\")\n",
    "\n",
    "from ipyleaflet import Map, WMSLayer\n",
    "\n",
    "m = Map(center=(-41.2865, 174.7762), zoom=5)\n",
    "\n",
    "wms = WMSLayer(\n",
    "    url='http://explorer-portal.australiaeast.cloudapp.azure.com/geoserver/mbie/ows',\n",
    "    layers='mbie:seismicnav2d',\n",
    "    format=\"image/png\",\n",
    "    transparent=True\n",
    ")\n",
    "\n",
    "m.add_layer(wms)\n",
    "\n",
    "m"
   ]
  },
  {
   "cell_type": "code",
   "execution_count": 3,
   "metadata": {},
   "outputs": [
    {
     "data": {
      "application/vnd.jupyter.widget-view+json": {
       "model_id": "bc58ab2114ce43a4b251b8ac4ebf5c94",
       "version_major": 2,
       "version_minor": 0
      },
      "text/plain": [
       "Map(basemap={'url': 'https://{s}.tile.openstreetmap.org/{z}/{x}/{y}.png', 'max_zoom': 19, 'attribution': 'Map …"
      ]
     },
     "metadata": {},
     "output_type": "display_data"
    }
   ],
   "source": [
    "from ipyleaflet import Map, GeoJSON, LayersControl\n",
    "from owslib.wfs import WebFeatureService\n",
    "import json\n",
    "\n",
    "wfs_service = WebFeatureService(\n",
    "    url='http://explorer-portal.australiaeast.cloudapp.azure.com/geoserver/mbie/ows', \n",
    "    version='2.0.0'\n",
    ")\n",
    "\n",
    "response_seismicnav2d = wfs_service.getfeature(\n",
    "    typename='mbie:seismicnav2d',\n",
    "    maxfeatures=200,\n",
    "    outputFormat='application/json'\n",
    ")\n",
    "\n",
    "data = json.loads(response_seismicnav2d.read())\n",
    "\n",
    "m = Map(center=(-41.2865, 174.7762), zoom=4)\n",
    "\n",
    "geo_json_2d = GeoJSON(data=data, style = {'color':'green','opacity':1,'fillOpacity':0.1})\n",
    "\n",
    "response_seismicnav3d = wfs_service.getfeature(\n",
    "    typename='mbie:seismicnav3d',\n",
    "    maxfeatures=200,\n",
    "    outputFormat='application/json'\n",
    ")\n",
    "\n",
    "data = json.loads(response_seismicnav3d.read())\n",
    "\n",
    "geo_json_3d = GeoJSON(data=data, style = {'color':'red','opacity':1,'fillOpacity':0.1})\n",
    "\n",
    "m.add_layer(geo_json_2d)\n",
    "m.add_layer(geo_json_3d)\n",
    "\n",
    "m"
   ]
  },
  {
   "cell_type": "code",
   "execution_count": 4,
   "metadata": {},
   "outputs": [
    {
     "data": {
      "application/vnd.jupyter.widget-view+json": {
       "model_id": "29dfcf8be5274069addb1fb8a567ef70",
       "version_major": 2,
       "version_minor": 0
      },
      "text/plain": [
       "Map(basemap={'url': 'https://{s}.tile.openstreetmap.org/{z}/{x}/{y}.png', 'max_zoom': 19, 'attribution': 'Map …"
      ]
     },
     "metadata": {},
     "output_type": "display_data"
    }
   ],
   "source": [
    "from ipyleaflet import Map, GeoJSON, LayersControl\n",
    "from owslib.wfs import WebFeatureService\n",
    "from owslib.etree import etree\n",
    "from owslib.fes import *\n",
    "import json\n",
    "\n",
    "wfs_service = WebFeatureService(\n",
    "    url='http://explorer-portal.australiaeast.cloudapp.azure.com/geoserver/mbie/ows', \n",
    "    version='1.1.0'\n",
    ")\n",
    "\n",
    "filter = PropertyIsLike(propertyname='area', literal='Northland*', wildCard='*')\n",
    "filterxml = etree.tostring(filter.toXML()).decode(\"utf-8\")\n",
    "\n",
    "response_seismicnav2d = wfs_service.getfeature(\n",
    "    typename='mbie:seismicnav2d',\n",
    "    maxfeatures=200,\n",
    "    outputFormat='application/json',\n",
    "    filter=filterxml\n",
    ")\n",
    "\n",
    "data = json.loads(response_seismicnav2d.read())\n",
    "\n",
    "m = Map(center=(-41.2865, 174.7762), zoom=5)\n",
    "\n",
    "geo_json_2d = GeoJSON(data=data, style = {'color':'blue','opacity':1,'fillOpacity':0.1})\n",
    "\n",
    "m.add_layer(geo_json_2d)\n",
    "\n",
    "m"
   ]
  }
 ],
 "metadata": {
  "kernelspec": {
   "display_name": "Python 3",
   "language": "python",
   "name": "python3"
  },
  "language_info": {
   "codemirror_mode": {
    "name": "ipython",
    "version": 3
   },
   "file_extension": ".py",
   "mimetype": "text/x-python",
   "name": "python",
   "nbconvert_exporter": "python",
   "pygments_lexer": "ipython3",
   "version": "3.6.7"
  }
 },
 "nbformat": 4,
 "nbformat_minor": 4
}

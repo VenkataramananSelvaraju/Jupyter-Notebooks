{
 "cells": [
  {
   "cell_type": "markdown",
   "metadata": {},
   "source": [
    "## Use Case 3\n",
    "\n",
    "Has received a Ministerial request and needs a summary of industry activity for an area of\n",
    "interest. Needs to understand what industry activity /coverage there is for a certain area, stats\n",
    "and overlaps with DOC and iwi land interests."
   ]
  },
  {
   "cell_type": "code",
   "execution_count": 2,
   "metadata": {},
   "outputs": [],
   "source": [
    "import warnings\n",
    "warnings.filterwarnings(\"ignore\")"
   ]
  },
  {
   "cell_type": "markdown",
   "metadata": {},
   "source": [
    "### Fetching Taranaki land district boundary from LINZ catalogue"
   ]
  },
  {
   "cell_type": "code",
   "execution_count": 23,
   "metadata": {},
   "outputs": [
    {
     "data": {
      "text/html": [
       "<div>\n",
       "<style scoped>\n",
       "    .dataframe tbody tr th:only-of-type {\n",
       "        vertical-align: middle;\n",
       "    }\n",
       "\n",
       "    .dataframe tbody tr th {\n",
       "        vertical-align: top;\n",
       "    }\n",
       "\n",
       "    .dataframe thead th {\n",
       "        text-align: right;\n",
       "    }\n",
       "</style>\n",
       "<table border=\"1\" class=\"dataframe\">\n",
       "  <thead>\n",
       "    <tr style=\"text-align: right;\">\n",
       "      <th></th>\n",
       "      <th>minx</th>\n",
       "      <th>miny</th>\n",
       "      <th>maxx</th>\n",
       "      <th>maxy</th>\n",
       "    </tr>\n",
       "  </thead>\n",
       "  <tbody>\n",
       "    <tr>\n",
       "      <td>4</td>\n",
       "      <td>173.495896</td>\n",
       "      <td>-39.940141</td>\n",
       "      <td>175.426704</td>\n",
       "      <td>-38.406606</td>\n",
       "    </tr>\n",
       "  </tbody>\n",
       "</table>\n",
       "</div>"
      ],
      "text/plain": [
       "         minx       miny        maxx       maxy\n",
       "4  173.495896 -39.940141  175.426704 -38.406606"
      ]
     },
     "execution_count": 23,
     "metadata": {},
     "output_type": "execute_result"
    }
   ],
   "source": [
    "import geopandas as gpd\n",
    "from requests import Request\n",
    "from owslib.wfs import WebFeatureService\n",
    "\n",
    "params = dict(\n",
    "    service='WFS',\n",
    "    version=\"2.0.0\",\n",
    "    request='GetFeature',\n",
    "    typeName='data.linz.govt.nz:layer-50785',\n",
    "    outputFormat='json',\n",
    "    srsname='urn:ogc:def:crs:EPSG::4326'\n",
    ")\n",
    "\n",
    "q = Request('GET', 'https://data.linz.govt.nz/services;key=e1cd2f7203d74a9ea5d179f269de890b/wfs', params=params).prepare().url\n",
    "\n",
    "tranaki_district_df = gpd.read_file(q)\n",
    "\n",
    "tranaki_district_df = tranaki_district_df[tranaki_district_df.name == 'Taranaki']\n",
    "\n",
    "tranaki_district_df.bounds"
   ]
  },
  {
   "cell_type": "code",
   "execution_count": 24,
   "metadata": {},
   "outputs": [
    {
     "data": {
      "application/vnd.jupyter.widget-view+json": {
       "model_id": "87962c053c9c4d83b8e89d1942865005",
       "version_major": 2,
       "version_minor": 0
      },
      "text/plain": [
       "Map(basemap={'url': 'https://{s}.tile.openstreetmap.org/{z}/{x}/{y}.png', 'max_zoom': 19, 'attribution': 'Map …"
      ]
     },
     "metadata": {},
     "output_type": "display_data"
    }
   ],
   "source": [
    "from ipywidgets import Text, HTML, Layout\n",
    "import textwrap\n",
    "from ipyleaflet import Map, GeoData, basemaps, LayersControl, WidgetControl\n",
    "\n",
    "tranaki_district_geo_data = GeoData(\n",
    "    geo_dataframe=tranaki_district_df,\n",
    "    style={'color': 'black', 'fillColor': '#3366cc', 'opacity':0.05, 'weight':1.9, 'dashArray':'2', 'fillOpacity':0.6},\n",
    "    hover_style={'fillColor': 'red' , 'fillOpacity': 0.2},\n",
    "    name='Taranaki District'\n",
    ")\n",
    "m = Map(center=(-39.285543, 174.025330), zoom=7)\n",
    "m.add_layer(tranaki_district_geo_data)\n",
    "\n",
    "m"
   ]
  },
  {
   "cell_type": "markdown",
   "metadata": {},
   "source": [
    "### Fetching conservation layer from LINZ catalogue"
   ]
  },
  {
   "cell_type": "code",
   "execution_count": 25,
   "metadata": {},
   "outputs": [
    {
     "data": {
      "text/html": [
       "<div>\n",
       "<style scoped>\n",
       "    .dataframe tbody tr th:only-of-type {\n",
       "        vertical-align: middle;\n",
       "    }\n",
       "\n",
       "    .dataframe tbody tr th {\n",
       "        vertical-align: top;\n",
       "    }\n",
       "\n",
       "    .dataframe thead th {\n",
       "        text-align: right;\n",
       "    }\n",
       "</style>\n",
       "<table border=\"1\" class=\"dataframe\">\n",
       "  <thead>\n",
       "    <tr style=\"text-align: right;\">\n",
       "      <th></th>\n",
       "      <th>id</th>\n",
       "      <th>napalis_id</th>\n",
       "      <th>start_date</th>\n",
       "      <th>name</th>\n",
       "      <th>recorded_area</th>\n",
       "      <th>overlays</th>\n",
       "      <th>type</th>\n",
       "      <th>legislation</th>\n",
       "      <th>section</th>\n",
       "      <th>reserve_purpose</th>\n",
       "      <th>ctrl_mg_vst</th>\n",
       "      <th>geometry</th>\n",
       "    </tr>\n",
       "  </thead>\n",
       "  <tbody>\n",
       "    <tr>\n",
       "      <td>0</td>\n",
       "      <td>layer-53564.2991035</td>\n",
       "      <td>2991035</td>\n",
       "      <td>None</td>\n",
       "      <td>Mangapouri Cemetery - Local Purpose (Cemetery)...</td>\n",
       "      <td>20.4325</td>\n",
       "      <td>No</td>\n",
       "      <td>Reserve</td>\n",
       "      <td>Reserves Act 1977</td>\n",
       "      <td>s.23 - Local Purpose Reserve</td>\n",
       "      <td>Cemetery</td>\n",
       "      <td>New Plymouth District Council</td>\n",
       "      <td>(POLYGON ((174.1296076505625 -39.1350512713130...</td>\n",
       "    </tr>\n",
       "    <tr>\n",
       "      <td>1</td>\n",
       "      <td>layer-53564.2797902</td>\n",
       "      <td>2797902</td>\n",
       "      <td>1998-01-01T12:00:00</td>\n",
       "      <td>Esplanade - Mokau Coast</td>\n",
       "      <td>0.4320</td>\n",
       "      <td>No</td>\n",
       "      <td>Reserve</td>\n",
       "      <td>Reserves Act 1977</td>\n",
       "      <td>s.23 - Local Purpose Reserve</td>\n",
       "      <td>Esplanade</td>\n",
       "      <td>Waitomo District Council</td>\n",
       "      <td>(POLYGON ((174.6169666168091 -38.6940508875841...</td>\n",
       "    </tr>\n",
       "    <tr>\n",
       "      <td>2</td>\n",
       "      <td>layer-53564.2797905</td>\n",
       "      <td>2797905</td>\n",
       "      <td>1961-01-01T12:00:00</td>\n",
       "      <td>Esplanade - Mokau River</td>\n",
       "      <td>0.0511</td>\n",
       "      <td>No</td>\n",
       "      <td>Reserve</td>\n",
       "      <td>Reserves Act 1977</td>\n",
       "      <td>s.23 - Local Purpose Reserve</td>\n",
       "      <td>Esplanade</td>\n",
       "      <td>Waitomo District Council</td>\n",
       "      <td>(POLYGON ((174.6258703165376 -38.6985954379401...</td>\n",
       "    </tr>\n",
       "    <tr>\n",
       "      <td>3</td>\n",
       "      <td>layer-53564.2797951</td>\n",
       "      <td>2797951</td>\n",
       "      <td>1919-01-01T12:00:00</td>\n",
       "      <td>Quarry - Pura Stream</td>\n",
       "      <td>10.2790</td>\n",
       "      <td>No</td>\n",
       "      <td>Reserve</td>\n",
       "      <td>Reserves Act 1977</td>\n",
       "      <td>s.23 - Local Purpose Reserve</td>\n",
       "      <td>Quarry</td>\n",
       "      <td>Ruapehu District Council</td>\n",
       "      <td>(POLYGON ((174.9565230327718 -38.7284041711950...</td>\n",
       "    </tr>\n",
       "    <tr>\n",
       "      <td>4</td>\n",
       "      <td>layer-53564.2797952</td>\n",
       "      <td>2797952</td>\n",
       "      <td>1972-01-01T00:00:00</td>\n",
       "      <td>St John Ambulance Station - Mokau</td>\n",
       "      <td>0.1012</td>\n",
       "      <td>No</td>\n",
       "      <td>Reserve</td>\n",
       "      <td>Reserves Act 1977</td>\n",
       "      <td>s.23 - Local Purpose Reserve</td>\n",
       "      <td>St Johns Ambulance Station</td>\n",
       "      <td>Commandry in NZ Order of St. John Trust Board</td>\n",
       "      <td>(POLYGON ((174.6195297670146 -38.6978789878483...</td>\n",
       "    </tr>\n",
       "  </tbody>\n",
       "</table>\n",
       "</div>"
      ],
      "text/plain": [
       "                    id  napalis_id           start_date  \\\n",
       "0  layer-53564.2991035     2991035                 None   \n",
       "1  layer-53564.2797902     2797902  1998-01-01T12:00:00   \n",
       "2  layer-53564.2797905     2797905  1961-01-01T12:00:00   \n",
       "3  layer-53564.2797951     2797951  1919-01-01T12:00:00   \n",
       "4  layer-53564.2797952     2797952  1972-01-01T00:00:00   \n",
       "\n",
       "                                                name  recorded_area overlays  \\\n",
       "0  Mangapouri Cemetery - Local Purpose (Cemetery)...        20.4325       No   \n",
       "1                            Esplanade - Mokau Coast         0.4320       No   \n",
       "2                            Esplanade - Mokau River         0.0511       No   \n",
       "3                               Quarry - Pura Stream        10.2790       No   \n",
       "4                  St John Ambulance Station - Mokau         0.1012       No   \n",
       "\n",
       "      type        legislation                       section  \\\n",
       "0  Reserve  Reserves Act 1977  s.23 - Local Purpose Reserve   \n",
       "1  Reserve  Reserves Act 1977  s.23 - Local Purpose Reserve   \n",
       "2  Reserve  Reserves Act 1977  s.23 - Local Purpose Reserve   \n",
       "3  Reserve  Reserves Act 1977  s.23 - Local Purpose Reserve   \n",
       "4  Reserve  Reserves Act 1977  s.23 - Local Purpose Reserve   \n",
       "\n",
       "              reserve_purpose                                    ctrl_mg_vst  \\\n",
       "0                    Cemetery                  New Plymouth District Council   \n",
       "1                   Esplanade                       Waitomo District Council   \n",
       "2                   Esplanade                       Waitomo District Council   \n",
       "3                      Quarry                       Ruapehu District Council   \n",
       "4  St Johns Ambulance Station  Commandry in NZ Order of St. John Trust Board   \n",
       "\n",
       "                                            geometry  \n",
       "0  (POLYGON ((174.1296076505625 -39.1350512713130...  \n",
       "1  (POLYGON ((174.6169666168091 -38.6940508875841...  \n",
       "2  (POLYGON ((174.6258703165376 -38.6985954379401...  \n",
       "3  (POLYGON ((174.9565230327718 -38.7284041711950...  \n",
       "4  (POLYGON ((174.6195297670146 -38.6978789878483...  "
      ]
     },
     "execution_count": 25,
     "metadata": {},
     "output_type": "execute_result"
    }
   ],
   "source": [
    "import geopandas as gpd\n",
    "from requests import Request\n",
    "from owslib.wfs import WebFeatureService\n",
    "\n",
    "params = dict(\n",
    "    service='WFS',\n",
    "    version=\"2.0.0\",\n",
    "    request='GetFeature',\n",
    "    typeName='data.linz.govt.nz:layer-53564',\n",
    "    outputFormat='json',\n",
    "    srsname='urn:ogc:def:crs:EPSG::4326',\n",
    "    bbox='173.495896,-39.940141,175.426704,-38.406606,EPSG:4326'\n",
    ")\n",
    "q = Request('GET', 'https://data.linz.govt.nz/services;key=e1cd2f7203d74a9ea5d179f269de890b/wfs', params=params).prepare().url\n",
    "\n",
    "conservation_layer_df = gpd.read_file(q)\n",
    "\n",
    "conservation_layer_df.head()"
   ]
  },
  {
   "cell_type": "code",
   "execution_count": 26,
   "metadata": {},
   "outputs": [
    {
     "data": {
      "text/plain": [
       "<matplotlib.axes._subplots.AxesSubplot at 0x7f36c54b54e0>"
      ]
     },
     "execution_count": 26,
     "metadata": {},
     "output_type": "execute_result"
    },
    {
     "data": {
      "image/png": "[encoded data removed]",
      "text/plain": [
       "<Figure size 432x288 with 1 Axes>"
      ]
     },
     "metadata": {
      "needs_background": "light"
     },
     "output_type": "display_data"
    }
   ],
   "source": [
    "taranaki_protected_areas = gpd.overlay(tranaki_district_df, conservation_layer_df, how='intersection')\n",
    "\n",
    "taranaki_protected_areas.plot(cmap='tab10')"
   ]
  },
  {
   "cell_type": "markdown",
   "metadata": {},
   "source": [
    "### Plotting identified conservation layer in Taranaki region"
   ]
  },
  {
   "cell_type": "code",
   "execution_count": 27,
   "metadata": {},
   "outputs": [
    {
     "data": {
      "application/vnd.jupyter.widget-view+json": {
       "model_id": "6060c094b9b34717a2c2e823004896c2",
       "version_major": 2,
       "version_minor": 0
      },
      "text/plain": [
       "Map(basemap={'url': 'https://{s}.tile.openstreetmap.org/{z}/{x}/{y}.png', 'max_zoom': 19, 'attribution': 'Map …"
      ]
     },
     "metadata": {},
     "output_type": "display_data"
    }
   ],
   "source": [
    "def taranaki_result_click_handler (feature=None, **kwargs):\n",
    "    if feature is not None:        \n",
    "        taranaki_protected_areas_html.value = ''\n",
    "        items = feature['properties']\n",
    "        for item in items:\n",
    "            taranaki_protected_areas_html.value += '''\n",
    "                <h6>{}: <b>{}</b></h6>'''.format(item, textwrap.shorten(str(items[item]), width=40))\n",
    "\n",
    "taranaki_protected_areas_geo_data = GeoData(\n",
    "    geo_dataframe=taranaki_protected_areas,\n",
    "    style={'color': 'red', 'fillColor': '#cc3333', 'opacity':0.05, 'weight':1.9, 'dashArray':'2', 'fillOpacity':0.6},\n",
    "    hover_style={'fillColor': 'green' , 'fillOpacity': 0.2},\n",
    "    name='Taranaki Conservation Area'\n",
    ")\n",
    "taranaki_protected_areas_geo_data.on_click(taranaki_result_click_handler)\n",
    "\n",
    "m = Map(center=(-39.285543, 174.025330), zoom=9, layout=dict(height='600px'))\n",
    "m.add_layer(taranaki_protected_areas_geo_data)\n",
    "\n",
    "taranaki_protected_areas_html = HTML('')\n",
    "taranaki_protected_areas_html.layout.margin = '0px 10px 10px 10px'\n",
    "taranaki_protected_areas_html_control = WidgetControl(widget=taranaki_protected_areas_html, position='bottomright')\n",
    "m.add_control(taranaki_protected_areas_html_control)\n",
    "\n",
    "m"
   ]
  },
  {
   "cell_type": "markdown",
   "metadata": {},
   "source": [
    "### Searching Geonetwork catalogue to identify active permit layers"
   ]
  },
  {
   "cell_type": "code",
   "execution_count": 28,
   "metadata": {},
   "outputs": [
    {
     "data": {
      "application/vnd.jupyter.widget-view+json": {
       "model_id": "5068970e65124376916e003edc70f0ca",
       "version_major": 2,
       "version_minor": 0
      },
      "text/plain": [
       "Grid(compress_data=True, export_mode='disabled', height='350px', menu={'buttons': [{'name': 'Export to CSV', '…"
      ]
     },
     "metadata": {},
     "output_type": "display_data"
    }
   ],
   "source": [
    "from owslib.csw import CatalogueServiceWeb\n",
    "from owslib.fes import PropertyIsEqualTo, PropertyIsLike, BBox\n",
    "import pandas as pd\n",
    "from ipyaggrid import Grid\n",
    "\n",
    "csw = CatalogueServiceWeb('http://explorer-portal.australiaeast.cloudapp.azure.com/geonetwork/srv/eng/csw')\n",
    "\n",
    "permit_query = PropertyIsLike('csw:AnyText', '%Active%Permits%')\n",
    "csw.getrecords2(constraints=[permit_query], maxrecords=200)\n",
    "\n",
    "data = {}\n",
    "attribs = ['identifier', 'title', 'abstract', 'type', 'subjects' ]\n",
    "for key in csw.records:\n",
    "    record = csw.records[key]\n",
    "    for attrib in attribs:\n",
    "        if attrib not in data.keys():\n",
    "            data[attrib] = []\n",
    "        data[attrib].append(getattr(record, attrib))\n",
    "\n",
    "df_record = pd.DataFrame(data)\n",
    "\n",
    "record_column_defs = [{'field': c, 'width': 300, 'editable': True} for c in df_record.columns]\n",
    "\n",
    "record_grid_options = {\n",
    "    'columnDefs' : record_column_defs,\n",
    "    'enableFilter':'true',\n",
    "    'enableSorting':'true'\n",
    "}\n",
    "\n",
    "g_record = Grid(\n",
    "    grid_data=df_record,\n",
    "    grid_options=record_grid_options,\n",
    "    theme='ag-theme-balham',\n",
    "    columns_fit='',\n",
    "    quick_filter=True,\n",
    "    export_csv=True,\n",
    "    export_excel=True\n",
    ")\n",
    "\n",
    "g_record"
   ]
  },
  {
   "cell_type": "markdown",
   "metadata": {},
   "source": [
    "### Fetching catalogue records to identify service to be used"
   ]
  },
  {
   "cell_type": "code",
   "execution_count": 29,
   "metadata": {},
   "outputs": [
    {
     "data": {
      "text/plain": [
       "{'protocol': 'OGC:WFS-1.1.0-http-get-feature',\n",
       " 'name': 'Permits_Petroleum:Petroleum_Active_Permits',\n",
       " 'description': 'Petroleum_Active_Permits',\n",
       " 'url': 'https://data.nzpam.govt.nz/hosting/services/Permits/Petroleum/MapServer/WFSServer?'}"
      ]
     },
     "execution_count": 29,
     "metadata": {},
     "output_type": "execute_result"
    }
   ],
   "source": [
    "from owslib.csw import CatalogueServiceWeb\n",
    "\n",
    "csw.getrecordbyid(id=['aecdf0b2b48a07a8f95888d245781b9dc2a3faec', 'b194c58124d86f7cab8a1890e8e51971ec6443d9'])\n",
    "\n",
    "record = csw.records['aecdf0b2b48a07a8f95888d245781b9dc2a3faec']\n",
    "petro_permit_layer = record.uris[0]\n",
    "\n",
    "petro_permit_layer"
   ]
  },
  {
   "cell_type": "code",
   "execution_count": 30,
   "metadata": {},
   "outputs": [
    {
     "data": {
      "text/plain": [
       "{'protocol': 'OGC:WFS-1.1.0-http-get-feature',\n",
       " 'name': 'Permits_Minerals:Mineral_Active_Permits',\n",
       " 'description': 'Mineral_Active_Permits',\n",
       " 'url': 'https://data.nzpam.govt.nz/hosting/services/Permits/Minerals/MapServer/WFSServer?'}"
      ]
     },
     "execution_count": 30,
     "metadata": {},
     "output_type": "execute_result"
    }
   ],
   "source": [
    "record = csw.records['b194c58124d86f7cab8a1890e8e51971ec6443d9']\n",
    "mineral_permit_layer = record.uris[0]\n",
    "\n",
    "mineral_permit_layer"
   ]
  },
  {
   "cell_type": "markdown",
   "metadata": {},
   "source": [
    "### Fetching active petroleum permits"
   ]
  },
  {
   "cell_type": "code",
   "execution_count": 31,
   "metadata": {},
   "outputs": [
    {
     "data": {
      "text/html": [
       "<div>\n",
       "<style scoped>\n",
       "    .dataframe tbody tr th:only-of-type {\n",
       "        vertical-align: middle;\n",
       "    }\n",
       "\n",
       "    .dataframe tbody tr th {\n",
       "        vertical-align: top;\n",
       "    }\n",
       "\n",
       "    .dataframe thead th {\n",
       "        text-align: right;\n",
       "    }\n",
       "</style>\n",
       "<table border=\"1\" class=\"dataframe\">\n",
       "  <thead>\n",
       "    <tr style=\"text-align: right;\">\n",
       "      <th></th>\n",
       "      <th>OBJECTID</th>\n",
       "      <th>Permit_Number</th>\n",
       "      <th>PERMIT_NONEXCLUSIVE_YN</th>\n",
       "      <th>PERMIT_DURATION_YEARS</th>\n",
       "      <th>PERMIT_DURATION_MONTHS</th>\n",
       "      <th>PERMIT_AREA</th>\n",
       "      <th>PERMIT_AREA_UNITS</th>\n",
       "      <th>PERMIT_OFFSHORE_ONSHORE</th>\n",
       "      <th>Status</th>\n",
       "      <th>PERMIT_STATUS_DATE</th>\n",
       "      <th>...</th>\n",
       "      <th>Owner_s_</th>\n",
       "      <th>Share_Percentage_s_</th>\n",
       "      <th>Operator</th>\n",
       "      <th>Mineral_s_</th>\n",
       "      <th>B1_PER_ID1</th>\n",
       "      <th>B1_PER_ID2</th>\n",
       "      <th>B1_PER_ID3</th>\n",
       "      <th>SHAPE.STArea__</th>\n",
       "      <th>SHAPE.STLength__</th>\n",
       "      <th>geometry</th>\n",
       "    </tr>\n",
       "  </thead>\n",
       "  <tbody>\n",
       "    <tr>\n",
       "      <td>0</td>\n",
       "      <td>1599</td>\n",
       "      <td>51378</td>\n",
       "      <td>N</td>\n",
       "      <td>15</td>\n",
       "      <td>0</td>\n",
       "      <td>68.120</td>\n",
       "      <td>SQKM</td>\n",
       "      <td>Onshore</td>\n",
       "      <td>Active - Change Pending</td>\n",
       "      <td>2/12/2009</td>\n",
       "      <td>...</td>\n",
       "      <td>Greymouth Gas Kaimiro Limited, Greymouth Gas P...</td>\n",
       "      <td>24.08, 20, 20, 20, 15.92</td>\n",
       "      <td>Greymouth Petroleum Mining Group Limited</td>\n",
       "      <td>Condensate, Gas, LPG, Oil, Petroleum</td>\n",
       "      <td>08ATX</td>\n",
       "      <td>00000</td>\n",
       "      <td>00144</td>\n",
       "      <td>6.814331e+07</td>\n",
       "      <td>35244.802130</td>\n",
       "      <td>POLYGON ((174.21214389113 -38.98902043211932, ...</td>\n",
       "    </tr>\n",
       "    <tr>\n",
       "      <td>1</td>\n",
       "      <td>1601</td>\n",
       "      <td>38086</td>\n",
       "      <td>N</td>\n",
       "      <td>42</td>\n",
       "      <td>0</td>\n",
       "      <td>27.420</td>\n",
       "      <td>SQKM</td>\n",
       "      <td>Onshore</td>\n",
       "      <td>Active</td>\n",
       "      <td>11/11/1983</td>\n",
       "      <td>...</td>\n",
       "      <td>Todd Energy Limited</td>\n",
       "      <td>100</td>\n",
       "      <td>Todd Energy Limited</td>\n",
       "      <td>Condensate, Gas, LPG, Oil, Petroleum</td>\n",
       "      <td>94ATX</td>\n",
       "      <td>00000</td>\n",
       "      <td>00002</td>\n",
       "      <td>2.740828e+07</td>\n",
       "      <td>31228.449124</td>\n",
       "      <td>POLYGON ((174.3057574186126 -39.13851877895122...</td>\n",
       "    </tr>\n",
       "    <tr>\n",
       "      <td>2</td>\n",
       "      <td>1616</td>\n",
       "      <td>38146</td>\n",
       "      <td>N</td>\n",
       "      <td>39</td>\n",
       "      <td>4</td>\n",
       "      <td>256.517</td>\n",
       "      <td>SQKM</td>\n",
       "      <td>Offshore</td>\n",
       "      <td>Active - Change Pending</td>\n",
       "      <td>24/01/2018</td>\n",
       "      <td>...</td>\n",
       "      <td>Beach Energy Resources NZ (Kupe) Limited, Kupe...</td>\n",
       "      <td>32.1875, 17.8125, 46, 4</td>\n",
       "      <td>Beach Energy Resources NZ (Kupe) Limited</td>\n",
       "      <td>Condensate, Gas, LPG, Oil, Petroleum</td>\n",
       "      <td>92ATX</td>\n",
       "      <td>00000</td>\n",
       "      <td>00001</td>\n",
       "      <td>2.565727e+08</td>\n",
       "      <td>92239.357285</td>\n",
       "      <td>POLYGON ((174.1918720786393 -39.64824840659794...</td>\n",
       "    </tr>\n",
       "    <tr>\n",
       "      <td>3</td>\n",
       "      <td>1634</td>\n",
       "      <td>52278</td>\n",
       "      <td>N</td>\n",
       "      <td>40</td>\n",
       "      <td>0</td>\n",
       "      <td>10.536</td>\n",
       "      <td>SQKM</td>\n",
       "      <td>Onshore</td>\n",
       "      <td>Active - Change Pending</td>\n",
       "      <td>16/12/2010</td>\n",
       "      <td>...</td>\n",
       "      <td>GSNZ SPV1 LIMITED</td>\n",
       "      <td>100</td>\n",
       "      <td>GSNZ SPV1 LIMITED</td>\n",
       "      <td>Condensate, Gas, LPG, Oil, Petroleum</td>\n",
       "      <td>09ATX</td>\n",
       "      <td>00000</td>\n",
       "      <td>00128</td>\n",
       "      <td>1.053403e+07</td>\n",
       "      <td>15652.293945</td>\n",
       "      <td>POLYGON ((174.3416666680532 -39.25138887973409...</td>\n",
       "    </tr>\n",
       "    <tr>\n",
       "      <td>4</td>\n",
       "      <td>1645</td>\n",
       "      <td>38151</td>\n",
       "      <td>N</td>\n",
       "      <td>30</td>\n",
       "      <td>0</td>\n",
       "      <td>18.420</td>\n",
       "      <td>SQKM</td>\n",
       "      <td>Onshore</td>\n",
       "      <td>Active - Change Pending</td>\n",
       "      <td>30/01/2002</td>\n",
       "      <td>...</td>\n",
       "      <td>Westside New Zealand Limited</td>\n",
       "      <td>100</td>\n",
       "      <td>Westside New Zealand Limited</td>\n",
       "      <td>Condensate, Gas, LPG, Oil, Petroleum</td>\n",
       "      <td>01ATX</td>\n",
       "      <td>00000</td>\n",
       "      <td>00004</td>\n",
       "      <td>1.842724e+07</td>\n",
       "      <td>21588.669602</td>\n",
       "      <td>POLYGON ((174.3482626113051 -39.64408150013347...</td>\n",
       "    </tr>\n",
       "  </tbody>\n",
       "</table>\n",
       "<p>5 rows × 31 columns</p>\n",
       "</div>"
      ],
      "text/plain": [
       "   OBJECTID Permit_Number PERMIT_NONEXCLUSIVE_YN  PERMIT_DURATION_YEARS  \\\n",
       "0      1599         51378                      N                     15   \n",
       "1      1601         38086                      N                     42   \n",
       "2      1616         38146                      N                     39   \n",
       "3      1634         52278                      N                     40   \n",
       "4      1645         38151                      N                     30   \n",
       "\n",
       "   PERMIT_DURATION_MONTHS  PERMIT_AREA PERMIT_AREA_UNITS  \\\n",
       "0                       0       68.120              SQKM   \n",
       "1                       0       27.420              SQKM   \n",
       "2                       4      256.517              SQKM   \n",
       "3                       0       10.536              SQKM   \n",
       "4                       0       18.420              SQKM   \n",
       "\n",
       "  PERMIT_OFFSHORE_ONSHORE                   Status PERMIT_STATUS_DATE  ...  \\\n",
       "0                 Onshore  Active - Change Pending          2/12/2009  ...   \n",
       "1                 Onshore                   Active         11/11/1983  ...   \n",
       "2                Offshore  Active - Change Pending         24/01/2018  ...   \n",
       "3                 Onshore  Active - Change Pending         16/12/2010  ...   \n",
       "4                 Onshore  Active - Change Pending         30/01/2002  ...   \n",
       "\n",
       "                                            Owner_s_  \\\n",
       "0  Greymouth Gas Kaimiro Limited, Greymouth Gas P...   \n",
       "1                                Todd Energy Limited   \n",
       "2  Beach Energy Resources NZ (Kupe) Limited, Kupe...   \n",
       "3                                  GSNZ SPV1 LIMITED   \n",
       "4                       Westside New Zealand Limited   \n",
       "\n",
       "        Share_Percentage_s_                                  Operator  \\\n",
       "0  24.08, 20, 20, 20, 15.92  Greymouth Petroleum Mining Group Limited   \n",
       "1                       100                       Todd Energy Limited   \n",
       "2   32.1875, 17.8125, 46, 4  Beach Energy Resources NZ (Kupe) Limited   \n",
       "3                       100                         GSNZ SPV1 LIMITED   \n",
       "4                       100              Westside New Zealand Limited   \n",
       "\n",
       "                             Mineral_s_ B1_PER_ID1 B1_PER_ID2 B1_PER_ID3  \\\n",
       "0  Condensate, Gas, LPG, Oil, Petroleum      08ATX      00000      00144   \n",
       "1  Condensate, Gas, LPG, Oil, Petroleum      94ATX      00000      00002   \n",
       "2  Condensate, Gas, LPG, Oil, Petroleum      92ATX      00000      00001   \n",
       "3  Condensate, Gas, LPG, Oil, Petroleum      09ATX      00000      00128   \n",
       "4  Condensate, Gas, LPG, Oil, Petroleum      01ATX      00000      00004   \n",
       "\n",
       "  SHAPE.STArea__ SHAPE.STLength__  \\\n",
       "0   6.814331e+07     35244.802130   \n",
       "1   2.740828e+07     31228.449124   \n",
       "2   2.565727e+08     92239.357285   \n",
       "3   1.053403e+07     15652.293945   \n",
       "4   1.842724e+07     21588.669602   \n",
       "\n",
       "                                            geometry  \n",
       "0  POLYGON ((174.21214389113 -38.98902043211932, ...  \n",
       "1  POLYGON ((174.3057574186126 -39.13851877895122...  \n",
       "2  POLYGON ((174.1918720786393 -39.64824840659794...  \n",
       "3  POLYGON ((174.3416666680532 -39.25138887973409...  \n",
       "4  POLYGON ((174.3482626113051 -39.64408150013347...  \n",
       "\n",
       "[5 rows x 31 columns]"
      ]
     },
     "execution_count": 31,
     "metadata": {},
     "output_type": "execute_result"
    }
   ],
   "source": [
    "import geopandas as gpd\n",
    "from requests import Request\n",
    "from owslib.wfs import WebFeatureService\n",
    "\n",
    "params = dict(\n",
    "    service='WFS',\n",
    "    version=\"2.0.0\",\n",
    "    request='GetFeature',\n",
    "    typeName=petro_permit_layer['name'],\n",
    "    outputFormat='geojson',\n",
    "    srsname='urn:ogc:def:crs:EPSG::4326'\n",
    ")\n",
    "q = Request('GET', petro_permit_layer['url'], params=params).prepare().url\n",
    "\n",
    "petroleum_df = gpd.read_file(q)\n",
    "\n",
    "petroleum_df.head()"
   ]
  },
  {
   "cell_type": "markdown",
   "metadata": {},
   "source": [
    "### Fetching active mineral permits"
   ]
  },
  {
   "cell_type": "code",
   "execution_count": 32,
   "metadata": {},
   "outputs": [
    {
     "data": {
      "text/html": [
       "<div>\n",
       "<style scoped>\n",
       "    .dataframe tbody tr th:only-of-type {\n",
       "        vertical-align: middle;\n",
       "    }\n",
       "\n",
       "    .dataframe tbody tr th {\n",
       "        vertical-align: top;\n",
       "    }\n",
       "\n",
       "    .dataframe thead th {\n",
       "        text-align: right;\n",
       "    }\n",
       "</style>\n",
       "<table border=\"1\" class=\"dataframe\">\n",
       "  <thead>\n",
       "    <tr style=\"text-align: right;\">\n",
       "      <th></th>\n",
       "      <th>OBJECTID</th>\n",
       "      <th>PERMIT_NUMBER</th>\n",
       "      <th>PERMIT_NONEXCLUSIVE_YN</th>\n",
       "      <th>PERMIT_DURATION_YEARS</th>\n",
       "      <th>PERMIT_DURATION_MONTHS</th>\n",
       "      <th>PERMIT_AREA</th>\n",
       "      <th>PERMIT_AREA_UNITS</th>\n",
       "      <th>PERMIT_OFFSHORE_ONSHORE</th>\n",
       "      <th>PERMIT_STATUS</th>\n",
       "      <th>PERMIT_STATUS_DATE</th>\n",
       "      <th>...</th>\n",
       "      <th>OWNERS</th>\n",
       "      <th>SHARE_PERCENTAGE</th>\n",
       "      <th>OPERATOR</th>\n",
       "      <th>MINERALS</th>\n",
       "      <th>B1_PER_ID1</th>\n",
       "      <th>B1_PER_ID2</th>\n",
       "      <th>B1_PER_ID3</th>\n",
       "      <th>SHAPE.STArea__</th>\n",
       "      <th>SHAPE.STLength__</th>\n",
       "      <th>geometry</th>\n",
       "    </tr>\n",
       "  </thead>\n",
       "  <tbody>\n",
       "    <tr>\n",
       "      <td>173</td>\n",
       "      <td>8901</td>\n",
       "      <td>41511</td>\n",
       "      <td>N</td>\n",
       "      <td>40</td>\n",
       "      <td>0</td>\n",
       "      <td>310.626</td>\n",
       "      <td>Ha</td>\n",
       "      <td>Onshore</td>\n",
       "      <td>Active</td>\n",
       "      <td>14/03/2000</td>\n",
       "      <td>...</td>\n",
       "      <td>King Country Mining Limited</td>\n",
       "      <td>100</td>\n",
       "      <td>King Country Mining Limited</td>\n",
       "      <td>Coal</td>\n",
       "      <td>97ATX</td>\n",
       "      <td>00000</td>\n",
       "      <td>00071</td>\n",
       "      <td>3.107581e+06</td>\n",
       "      <td>7099.044173</td>\n",
       "      <td>POLYGON ((174.9140117043336 -38.913188707575, ...</td>\n",
       "    </tr>\n",
       "  </tbody>\n",
       "</table>\n",
       "<p>1 rows × 32 columns</p>\n",
       "</div>"
      ],
      "text/plain": [
       "     OBJECTID PERMIT_NUMBER PERMIT_NONEXCLUSIVE_YN  PERMIT_DURATION_YEARS  \\\n",
       "173      8901         41511                      N                     40   \n",
       "\n",
       "     PERMIT_DURATION_MONTHS  PERMIT_AREA PERMIT_AREA_UNITS  \\\n",
       "173                       0      310.626                Ha   \n",
       "\n",
       "    PERMIT_OFFSHORE_ONSHORE PERMIT_STATUS PERMIT_STATUS_DATE  ...  \\\n",
       "173                 Onshore        Active         14/03/2000  ...   \n",
       "\n",
       "                          OWNERS SHARE_PERCENTAGE  \\\n",
       "173  King Country Mining Limited              100   \n",
       "\n",
       "                        OPERATOR MINERALS B1_PER_ID1 B1_PER_ID2 B1_PER_ID3  \\\n",
       "173  King Country Mining Limited     Coal      97ATX      00000      00071   \n",
       "\n",
       "    SHAPE.STArea__ SHAPE.STLength__  \\\n",
       "173   3.107581e+06      7099.044173   \n",
       "\n",
       "                                              geometry  \n",
       "173  POLYGON ((174.9140117043336 -38.913188707575, ...  \n",
       "\n",
       "[1 rows x 32 columns]"
      ]
     },
     "execution_count": 32,
     "metadata": {},
     "output_type": "execute_result"
    }
   ],
   "source": [
    "import geopandas as gpd\n",
    "from requests import Request\n",
    "from owslib.wfs import WebFeatureService\n",
    "\n",
    "params = dict(\n",
    "    service='WFS', \n",
    "    version=\"2.0.0\", \n",
    "    request='GetFeature', \n",
    "    typeName=mineral_permit_layer['name'], \n",
    "    outputFormat='geojson', \n",
    "    srsname='urn:ogc:def:crs:EPSG::4326'\n",
    ")\n",
    "q = Request('GET', mineral_permit_layer['url'], params=params).prepare().url\n",
    "\n",
    "minerals_df = gpd.read_file(q)\n",
    "\n",
    "minerals_df.loc[minerals_df.PERMIT_NUMBER == '41511']"
   ]
  },
  {
   "cell_type": "markdown",
   "metadata": {},
   "source": [
    "### Overlay Active Permits to do intersection on Taranaki protected areas"
   ]
  },
  {
   "cell_type": "code",
   "execution_count": 33,
   "metadata": {},
   "outputs": [
    {
     "data": {
      "text/plain": [
       "<matplotlib.axes._subplots.AxesSubplot at 0x7f36c1fffa58>"
      ]
     },
     "metadata": {},
     "output_type": "display_data"
    },
    {
     "data": {
      "text/plain": [
       "<matplotlib.axes._subplots.AxesSubplot at 0x7f36cce44390>"
      ]
     },
     "metadata": {},
     "output_type": "display_data"
    },
    {
     "data": {
      "image/png": "[encoded data removed]",
      "text/plain": [
       "<Figure size 432x288 with 1 Axes>"
      ]
     },
     "metadata": {
      "needs_background": "light"
     },
     "output_type": "display_data"
    },
    {
     "data": {
      "image/png": "[encoded data removed]",
      "text/plain": [
       "<Figure size 432x288 with 1 Axes>"
      ]
     },
     "metadata": {
      "needs_background": "light"
     },
     "output_type": "display_data"
    }
   ],
   "source": [
    "res_petro_intersection = gpd.overlay(petroleum_df, taranaki_protected_areas, how='intersection')\n",
    "res_minerals_intersection = gpd.overlay(minerals_df, taranaki_protected_areas, how='intersection')\n",
    "\n",
    "petro_ax = res_petro_intersection.plot(cmap='tab10')\n",
    "minerals_ax = res_minerals_intersection.plot(cmap='tab10')\n",
    "\n",
    "display(petro_ax, minerals_ax)"
   ]
  },
  {
   "cell_type": "code",
   "execution_count": 34,
   "metadata": {},
   "outputs": [
    {
     "data": {
      "application/vnd.jupyter.widget-view+json": {
       "model_id": "8c69d049733a46b4bbe842b99cef6e60",
       "version_major": 2,
       "version_minor": 0
      },
      "text/plain": [
       "Map(basemap={'url': 'https://{s}.tile.openstreetmap.org/{z}/{x}/{y}.png', 'max_zoom': 19, 'attribution': 'Map …"
      ]
     },
     "metadata": {},
     "output_type": "display_data"
    }
   ],
   "source": [
    "def result_click_handler (feature=None, **kwargs):\n",
    "    if feature is not None:        \n",
    "        result_html.value = ''\n",
    "        items = feature['properties']\n",
    "        for item in items:\n",
    "            result_html.value += '''\n",
    "                <h6>{}: <b>{}</b></h6>'''.format(item, textwrap.shorten(str(items[item]), width=40))\n",
    "\n",
    "petro_taranaki_geo_data = GeoData(\n",
    "    geo_dataframe=res_petro_intersection,\n",
    "    style={'color': 'black', 'fillColor': '#3366cc', 'opacity':0.05, 'weight':1.9, 'dashArray':'2', 'fillOpacity':0.6},\n",
    "    hover_style={'fillColor': 'red' , 'fillOpacity': 0.2},\n",
    "    name='Petroleum Overlapping Area'\n",
    ")\n",
    "petro_taranaki_geo_data.on_click(result_click_handler)\n",
    "\n",
    "minerals_taranaki_geo_data = GeoData(\n",
    "    geo_dataframe=res_minerals_intersection,\n",
    "    style={'color': 'red', 'fillColor': '#cc3333', 'opacity':0.05, 'weight':1.9, 'dashArray':'2', 'fillOpacity':0.6},\n",
    "    hover_style={'fillColor': 'green' , 'fillOpacity': 0.2},\n",
    "    name='Minerals Overlapping Area'\n",
    ")\n",
    "minerals_taranaki_geo_data.on_click(result_click_handler)\n",
    "\n",
    "\n",
    "m = Map(center=(-39.285543, 174.025330), zoom=9, layout=dict(height='800px'))\n",
    "m.add_layer(petro_taranaki_geo_data)\n",
    "m.add_layer(minerals_taranaki_geo_data)\n",
    "m.add_layer(LayersControl())\n",
    "\n",
    "result_html = HTML('')\n",
    "result_html.layout.margin = '0px 10px 10px 10px'\n",
    "result_control = WidgetControl(widget=result_html, position='bottomright')\n",
    "m.add_control(result_control)\n",
    "\n",
    "m"
   ]
  },
  {
   "cell_type": "markdown",
   "metadata": {},
   "source": [
    "### Computing Overlap %, Overlap area in sq km, Number of permits and Permit Type"
   ]
  },
  {
   "cell_type": "code",
   "execution_count": 37,
   "metadata": {},
   "outputs": [
    {
     "data": {
      "text/html": [
       "<div>\n",
       "<style scoped>\n",
       "    .dataframe tbody tr th:only-of-type {\n",
       "        vertical-align: middle;\n",
       "    }\n",
       "\n",
       "    .dataframe tbody tr th {\n",
       "        vertical-align: top;\n",
       "    }\n",
       "\n",
       "    .dataframe thead th {\n",
       "        text-align: right;\n",
       "    }\n",
       "</style>\n",
       "<table border=\"1\" class=\"dataframe\">\n",
       "  <thead>\n",
       "    <tr style=\"text-align: right;\">\n",
       "      <th></th>\n",
       "      <th>Permit Type</th>\n",
       "      <th>Overlap % with Protected Areas</th>\n",
       "      <th>Overlap area in Sq Km</th>\n",
       "      <th>Number of Permits in Overlap Area</th>\n",
       "    </tr>\n",
       "  </thead>\n",
       "  <tbody>\n",
       "    <tr>\n",
       "      <td>0</td>\n",
       "      <td>Petroleum Permits</td>\n",
       "      <td>5.992007</td>\n",
       "      <td>435.620445</td>\n",
       "      <td>19</td>\n",
       "    </tr>\n",
       "    <tr>\n",
       "      <td>1</td>\n",
       "      <td>Minerals Permits</td>\n",
       "      <td>4.621388</td>\n",
       "      <td>335.976122</td>\n",
       "      <td>6</td>\n",
       "    </tr>\n",
       "  </tbody>\n",
       "</table>\n",
       "</div>"
      ],
      "text/plain": [
       "         Permit Type  Overlap % with Protected Areas  Overlap area in Sq Km  \\\n",
       "0  Petroleum Permits                        5.992007             435.620445   \n",
       "1   Minerals Permits                        4.621388             335.976122   \n",
       "\n",
       "   Number of Permits in Overlap Area  \n",
       "0                                 19  \n",
       "1                                  6  "
      ]
     },
     "metadata": {},
     "output_type": "display_data"
    },
    {
     "data": {
      "text/html": [
       "<div>\n",
       "<style scoped>\n",
       "    .dataframe tbody tr th:only-of-type {\n",
       "        vertical-align: middle;\n",
       "    }\n",
       "\n",
       "    .dataframe tbody tr th {\n",
       "        vertical-align: top;\n",
       "    }\n",
       "\n",
       "    .dataframe thead th {\n",
       "        text-align: right;\n",
       "    }\n",
       "</style>\n",
       "<table border=\"1\" class=\"dataframe\">\n",
       "  <thead>\n",
       "    <tr style=\"text-align: right;\">\n",
       "      <th></th>\n",
       "      <th>Type</th>\n",
       "      <th>Count</th>\n",
       "    </tr>\n",
       "  </thead>\n",
       "  <tbody>\n",
       "    <tr>\n",
       "      <td>0</td>\n",
       "      <td>Petroleum Mining Permit</td>\n",
       "      <td>8</td>\n",
       "    </tr>\n",
       "    <tr>\n",
       "      <td>1</td>\n",
       "      <td>Petroleum Exploration Permit</td>\n",
       "      <td>8</td>\n",
       "    </tr>\n",
       "    <tr>\n",
       "      <td>2</td>\n",
       "      <td>Petroleum Mining Licence</td>\n",
       "      <td>3</td>\n",
       "    </tr>\n",
       "  </tbody>\n",
       "</table>\n",
       "</div>"
      ],
      "text/plain": [
       "                           Type  Count\n",
       "0       Petroleum Mining Permit      8\n",
       "1  Petroleum Exploration Permit      8\n",
       "2      Petroleum Mining Licence      3"
      ]
     },
     "metadata": {},
     "output_type": "display_data"
    },
    {
     "data": {
      "text/html": [
       "<div>\n",
       "<style scoped>\n",
       "    .dataframe tbody tr th:only-of-type {\n",
       "        vertical-align: middle;\n",
       "    }\n",
       "\n",
       "    .dataframe tbody tr th {\n",
       "        vertical-align: top;\n",
       "    }\n",
       "\n",
       "    .dataframe thead th {\n",
       "        text-align: right;\n",
       "    }\n",
       "</style>\n",
       "<table border=\"1\" class=\"dataframe\">\n",
       "  <thead>\n",
       "    <tr style=\"text-align: right;\">\n",
       "      <th></th>\n",
       "      <th>PERMIT_TYPE_DESCRIPTION</th>\n",
       "      <th>Count</th>\n",
       "    </tr>\n",
       "  </thead>\n",
       "  <tbody>\n",
       "    <tr>\n",
       "      <td>0</td>\n",
       "      <td>Minerals Mining Permit</td>\n",
       "      <td>4</td>\n",
       "    </tr>\n",
       "    <tr>\n",
       "      <td>1</td>\n",
       "      <td>Coal Mining Licence</td>\n",
       "      <td>1</td>\n",
       "    </tr>\n",
       "    <tr>\n",
       "      <td>2</td>\n",
       "      <td>Minerals Exploration Permit</td>\n",
       "      <td>1</td>\n",
       "    </tr>\n",
       "  </tbody>\n",
       "</table>\n",
       "</div>"
      ],
      "text/plain": [
       "       PERMIT_TYPE_DESCRIPTION  Count\n",
       "0       Minerals Mining Permit      4\n",
       "1          Coal Mining Licence      1\n",
       "2  Minerals Exploration Permit      1"
      ]
     },
     "metadata": {},
     "output_type": "display_data"
    }
   ],
   "source": [
    "from ipywidgets import HTML\n",
    "\n",
    "petro_area_sq_km = res_petro_intersection.to_crs({'init': 'EPSG:3857'}).area.sum() / 10**6\n",
    "minerals_area_sq_km = res_minerals_intersection.to_crs({'init': 'EPSG:3857'}).area.sum() / 10**6\n",
    "taranaki_protected_areas_sq_km = taranaki_protected_areas.to_crs({'init': 'EPSG:3857'}).area.sum() / 10**6\n",
    "\n",
    "petro_overlap_percentage = (petro_area_sq_km / taranaki_protected_areas_sq_km) * 100\n",
    "minerals_overlap_percentage = (minerals_area_sq_km / taranaki_protected_areas_sq_km) * 100\n",
    "\n",
    "no_of_petro_permits = len(res_petro_intersection['Permit_Number'].unique())\n",
    "no_of_minerals_permits = len(res_minerals_intersection['PERMIT_NUMBER'].unique())\n",
    "\n",
    "petro_permittype_df = res_petro_intersection.drop_duplicates('Permit_Number', keep='last').groupby(['Type'], sort=False).size().reset_index(name='Count')\n",
    "minerals_permittype_df = res_minerals_intersection.drop_duplicates('PERMIT_NUMBER', keep='last').groupby(['PERMIT_TYPE_DESCRIPTION'], sort=False).size().reset_index(name='Count')\n",
    "\n",
    "data = [\n",
    "    ['Petroleum Permits', petro_overlap_percentage, petro_area_sq_km, no_of_petro_permits], \n",
    "    ['Minerals Permits', minerals_overlap_percentage, minerals_area_sq_km, no_of_minerals_permits]\n",
    "]\n",
    "output_df = pd.DataFrame(data, columns = ['Permit Type', 'Overlap % with Protected Areas', 'Overlap area in Sq Km', 'Number of Permits in Overlap Area'])\n",
    "\n",
    "display (output_df.head(), petro_permittype_df, minerals_permittype_df)"
   ]
  }
 ],
 "metadata": {
  "kernelspec": {
   "display_name": "Python 3",
   "language": "python",
   "name": "python3"
  },
  "language_info": {
   "codemirror_mode": {
    "name": "ipython",
    "version": 3
   },
   "file_extension": ".py",
   "mimetype": "text/x-python",
   "name": "python",
   "nbconvert_exporter": "python",
   "pygments_lexer": "ipython3",
   "version": "3.6.7"
  }
 },
 "nbformat": 4,
 "nbformat_minor": 4
}
